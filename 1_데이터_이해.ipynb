{
  "cells": [
    {
      "cell_type": "markdown",
      "metadata": {
        "id": "view-in-github",
        "colab_type": "text"
      },
      "source": [
        "<a href=\"https://colab.research.google.com/github/joon-11/learn_AI/blob/main/1_%EB%8D%B0%EC%9D%B4%ED%84%B0_%EC%9D%B4%ED%95%B4.ipynb\" target=\"_parent\"><img src=\"https://colab.research.google.com/assets/colab-badge.svg\" alt=\"Open In Colab\"/></a>"
      ]
    },
    {
      "cell_type": "raw",
      "id": "7ea08a01",
      "metadata": {
        "id": "7ea08a01"
      },
      "source": [
        "\n",
        "              내용      데이터 타입\n",
        "age :         나이         int\n",
        "job :         직장        object\n",
        "martial :    결혼이력     object\n",
        "education :   학력        object\n",
        "default : 채무불이행 유무 object\n",
        "balance :  연간평균잔고    int\n",
        "housing : 주택대출 유무   object\n",
        "loan :    개인대출 유무   object\n",
        "contact :  연락수단       object\n",
        "day :   마지막 접촉 날짜   int\n",
        "month :  마지막 접촉 달   object\n",
        "duration : 접촉한 시간     int\n",
        "campaign : 이번 캠페인 접촉 횟수  int\n",
        "pdays : 지난번 캠페인에서 마지막으로 접촉한 후의 경과시간 int\n",
        "previous : 이번 캠페인 이전에 접촉한 횟수 int\n",
        "poutcome : 지난 캠페인 성공 유무 object\n",
        "y : 예금 신청 유무        object"
      ]
    },
    {
      "cell_type": "code",
      "execution_count": null,
      "id": "55062e8a",
      "metadata": {
        "scrolled": true,
        "id": "55062e8a",
        "outputId": "c2e9b612-1953-4000-c89d-9ded176f8412"
      },
      "outputs": [
        {
          "data": {
            "text/html": [
              "<div>\n",
              "<style scoped>\n",
              "    .dataframe tbody tr th:only-of-type {\n",
              "        vertical-align: middle;\n",
              "    }\n",
              "\n",
              "    .dataframe tbody tr th {\n",
              "        vertical-align: top;\n",
              "    }\n",
              "\n",
              "    .dataframe thead th {\n",
              "        text-align: right;\n",
              "    }\n",
              "</style>\n",
              "<table border=\"1\" class=\"dataframe\">\n",
              "  <thead>\n",
              "    <tr style=\"text-align: right;\">\n",
              "      <th></th>\n",
              "      <th>age</th>\n",
              "      <th>job</th>\n",
              "      <th>marital</th>\n",
              "      <th>education</th>\n",
              "      <th>default</th>\n",
              "      <th>balance</th>\n",
              "      <th>housing</th>\n",
              "      <th>loan</th>\n",
              "      <th>contact</th>\n",
              "      <th>day</th>\n",
              "      <th>month</th>\n",
              "      <th>duration</th>\n",
              "      <th>campaign</th>\n",
              "      <th>pdays</th>\n",
              "      <th>previous</th>\n",
              "      <th>poutcome</th>\n",
              "      <th>y</th>\n",
              "    </tr>\n",
              "  </thead>\n",
              "  <tbody>\n",
              "    <tr>\n",
              "      <th>0</th>\n",
              "      <td>58</td>\n",
              "      <td>management</td>\n",
              "      <td>married</td>\n",
              "      <td>tertiary</td>\n",
              "      <td>no</td>\n",
              "      <td>2143</td>\n",
              "      <td>yes</td>\n",
              "      <td>no</td>\n",
              "      <td>NaN</td>\n",
              "      <td>5</td>\n",
              "      <td>may</td>\n",
              "      <td>261</td>\n",
              "      <td>1</td>\n",
              "      <td>-1</td>\n",
              "      <td>0</td>\n",
              "      <td>NaN</td>\n",
              "      <td>no</td>\n",
              "    </tr>\n",
              "    <tr>\n",
              "      <th>1</th>\n",
              "      <td>36</td>\n",
              "      <td>technician</td>\n",
              "      <td>single</td>\n",
              "      <td>secondary</td>\n",
              "      <td>no</td>\n",
              "      <td>265</td>\n",
              "      <td>yes</td>\n",
              "      <td>yes</td>\n",
              "      <td>NaN</td>\n",
              "      <td>5</td>\n",
              "      <td>may</td>\n",
              "      <td>348</td>\n",
              "      <td>1</td>\n",
              "      <td>-1</td>\n",
              "      <td>0</td>\n",
              "      <td>NaN</td>\n",
              "      <td>no</td>\n",
              "    </tr>\n",
              "    <tr>\n",
              "      <th>2</th>\n",
              "      <td>25</td>\n",
              "      <td>blue-collar</td>\n",
              "      <td>married</td>\n",
              "      <td>secondary</td>\n",
              "      <td>no</td>\n",
              "      <td>-7</td>\n",
              "      <td>yes</td>\n",
              "      <td>no</td>\n",
              "      <td>NaN</td>\n",
              "      <td>5</td>\n",
              "      <td>may</td>\n",
              "      <td>365</td>\n",
              "      <td>1</td>\n",
              "      <td>-1</td>\n",
              "      <td>0</td>\n",
              "      <td>NaN</td>\n",
              "      <td>no</td>\n",
              "    </tr>\n",
              "    <tr>\n",
              "      <th>3</th>\n",
              "      <td>53</td>\n",
              "      <td>technician</td>\n",
              "      <td>married</td>\n",
              "      <td>secondary</td>\n",
              "      <td>no</td>\n",
              "      <td>-3</td>\n",
              "      <td>no</td>\n",
              "      <td>no</td>\n",
              "      <td>NaN</td>\n",
              "      <td>5</td>\n",
              "      <td>may</td>\n",
              "      <td>1666</td>\n",
              "      <td>1</td>\n",
              "      <td>-1</td>\n",
              "      <td>0</td>\n",
              "      <td>NaN</td>\n",
              "      <td>no</td>\n",
              "    </tr>\n",
              "    <tr>\n",
              "      <th>4</th>\n",
              "      <td>24</td>\n",
              "      <td>technician</td>\n",
              "      <td>single</td>\n",
              "      <td>secondary</td>\n",
              "      <td>no</td>\n",
              "      <td>-103</td>\n",
              "      <td>yes</td>\n",
              "      <td>yes</td>\n",
              "      <td>NaN</td>\n",
              "      <td>5</td>\n",
              "      <td>may</td>\n",
              "      <td>145</td>\n",
              "      <td>1</td>\n",
              "      <td>-1</td>\n",
              "      <td>0</td>\n",
              "      <td>NaN</td>\n",
              "      <td>no</td>\n",
              "    </tr>\n",
              "  </tbody>\n",
              "</table>\n",
              "</div>"
            ],
            "text/plain": [
              "   age          job  marital  education default  balance housing loan contact  \\\n",
              "0   58   management  married   tertiary      no     2143     yes   no     NaN   \n",
              "1   36   technician   single  secondary      no      265     yes  yes     NaN   \n",
              "2   25  blue-collar  married  secondary      no       -7     yes   no     NaN   \n",
              "3   53   technician  married  secondary      no       -3      no   no     NaN   \n",
              "4   24   technician   single  secondary      no     -103     yes  yes     NaN   \n",
              "\n",
              "   day month  duration  campaign  pdays  previous poutcome   y  \n",
              "0    5   may       261         1     -1         0      NaN  no  \n",
              "1    5   may       348         1     -1         0      NaN  no  \n",
              "2    5   may       365         1     -1         0      NaN  no  \n",
              "3    5   may      1666         1     -1         0      NaN  no  \n",
              "4    5   may       145         1     -1         0      NaN  no  "
            ]
          },
          "execution_count": 6,
          "metadata": {},
          "output_type": "execute_result"
        }
      ],
      "source": [
        "import pandas as pd\n",
        "\n",
        "bank_df = pd.read_csv('bank.csv', sep = ',')\n",
        "bank_df.head()"
      ]
    },
    {
      "cell_type": "code",
      "execution_count": null,
      "id": "91351764",
      "metadata": {
        "id": "91351764",
        "outputId": "5443c6bd-9014-4441-d422-ed0b4bee431a"
      },
      "outputs": [
        {
          "name": "stdout",
          "output_type": "stream",
          "text": [
            "(7234, 17)\n"
          ]
        }
      ],
      "source": [
        "print(bank_df.shape) # 행수, 열수"
      ]
    },
    {
      "cell_type": "code",
      "execution_count": null,
      "id": "e2751b4b",
      "metadata": {
        "id": "e2751b4b",
        "outputId": "6b0f33dc-2c88-4f06-8747-c99af8e4bb73"
      },
      "outputs": [
        {
          "name": "stdout",
          "output_type": "stream",
          "text": [
            "age           int64\n",
            "job          object\n",
            "marital      object\n",
            "education    object\n",
            "default      object\n",
            "balance       int64\n",
            "housing      object\n",
            "loan         object\n",
            "contact      object\n",
            "day           int64\n",
            "month        object\n",
            "duration      int64\n",
            "campaign      int64\n",
            "pdays         int64\n",
            "previous      int64\n",
            "poutcome     object\n",
            "y            object\n",
            "dtype: object\n"
          ]
        }
      ],
      "source": [
        "print(bank_df.dtypes) # 데이터 타입"
      ]
    },
    {
      "cell_type": "code",
      "execution_count": null,
      "id": "b4c355da",
      "metadata": {
        "id": "b4c355da",
        "outputId": "c3a7bf28-1355-4afb-b151-2bf30983680b"
      },
      "outputs": [
        {
          "name": "stdout",
          "output_type": "stream",
          "text": [
            "0        True\n",
            "1        True\n",
            "2        True\n",
            "3        True\n",
            "4        True\n",
            "        ...  \n",
            "7229    False\n",
            "7230    False\n",
            "7231    False\n",
            "7232     True\n",
            "7233     True\n",
            "Length: 7234, dtype: bool\n",
            "age          False\n",
            "job           True\n",
            "marital      False\n",
            "education     True\n",
            "default      False\n",
            "balance      False\n",
            "housing      False\n",
            "loan         False\n",
            "contact       True\n",
            "day          False\n",
            "month        False\n",
            "duration     False\n",
            "campaign     False\n",
            "pdays        False\n",
            "previous     False\n",
            "poutcome      True\n",
            "y            False\n",
            "dtype: bool\n"
          ]
        }
      ],
      "source": [
        "print(bank_df.isnull().any(axis=1)) # 결손값 확인(행방향)\n",
        "print(bank_df.isnull().any(axis=0)) # 결손값 확인(열방향)"
      ]
    },
    {
      "cell_type": "code",
      "execution_count": null,
      "id": "a77e2205",
      "metadata": {
        "id": "a77e2205",
        "outputId": "e3c6c416-21e2-4683-e0ac-e92fecc338dc"
      },
      "outputs": [
        {
          "name": "stdout",
          "output_type": "stream",
          "text": [
            "0       2\n",
            "1       2\n",
            "2       2\n",
            "3       2\n",
            "4       2\n",
            "       ..\n",
            "7229    0\n",
            "7230    0\n",
            "7231    0\n",
            "7232    1\n",
            "7233    1\n",
            "Length: 7234, dtype: int64\n",
            "age             0\n",
            "job            44\n",
            "marital         0\n",
            "education     273\n",
            "default         0\n",
            "balance         0\n",
            "housing         0\n",
            "loan            0\n",
            "contact      2038\n",
            "day             0\n",
            "month           0\n",
            "duration        0\n",
            "campaign        0\n",
            "pdays           0\n",
            "previous        0\n",
            "poutcome     5900\n",
            "y               0\n",
            "dtype: int64\n"
          ]
        }
      ],
      "source": [
        "print(bank_df.isnull().sum(axis=1)) # 결손수 확인(행방향)\n",
        "print(bank_df.isnull().sum(axis=0)) # 결손수 확인(열방향)"
      ]
    },
    {
      "cell_type": "code",
      "execution_count": null,
      "id": "99a2e4ac",
      "metadata": {
        "id": "99a2e4ac",
        "outputId": "4edf5291-42c9-455e-ff52-411fc26e076c"
      },
      "outputs": [
        {
          "data": {
            "text/html": [
              "<div>\n",
              "<style scoped>\n",
              "    .dataframe tbody tr th:only-of-type {\n",
              "        vertical-align: middle;\n",
              "    }\n",
              "\n",
              "    .dataframe tbody tr th {\n",
              "        vertical-align: top;\n",
              "    }\n",
              "\n",
              "    .dataframe thead th {\n",
              "        text-align: right;\n",
              "    }\n",
              "</style>\n",
              "<table border=\"1\" class=\"dataframe\">\n",
              "  <thead>\n",
              "    <tr style=\"text-align: right;\">\n",
              "      <th></th>\n",
              "      <th>age</th>\n",
              "      <th>balance</th>\n",
              "      <th>day</th>\n",
              "      <th>duration</th>\n",
              "      <th>campaign</th>\n",
              "      <th>pdays</th>\n",
              "      <th>previous</th>\n",
              "    </tr>\n",
              "  </thead>\n",
              "  <tbody>\n",
              "    <tr>\n",
              "      <th>count</th>\n",
              "      <td>7234.000000</td>\n",
              "      <td>7234.000000</td>\n",
              "      <td>7234.000000</td>\n",
              "      <td>7234.000000</td>\n",
              "      <td>7234.000000</td>\n",
              "      <td>7234.000000</td>\n",
              "      <td>7234.000000</td>\n",
              "    </tr>\n",
              "    <tr>\n",
              "      <th>mean</th>\n",
              "      <td>40.834808</td>\n",
              "      <td>1374.912911</td>\n",
              "      <td>15.623860</td>\n",
              "      <td>262.875311</td>\n",
              "      <td>2.713989</td>\n",
              "      <td>40.277716</td>\n",
              "      <td>0.565939</td>\n",
              "    </tr>\n",
              "    <tr>\n",
              "      <th>std</th>\n",
              "      <td>10.706442</td>\n",
              "      <td>3033.882933</td>\n",
              "      <td>8.307826</td>\n",
              "      <td>268.921065</td>\n",
              "      <td>2.983740</td>\n",
              "      <td>99.188008</td>\n",
              "      <td>1.825100</td>\n",
              "    </tr>\n",
              "    <tr>\n",
              "      <th>min</th>\n",
              "      <td>2.000000</td>\n",
              "      <td>-3313.000000</td>\n",
              "      <td>1.000000</td>\n",
              "      <td>0.000000</td>\n",
              "      <td>1.000000</td>\n",
              "      <td>-1.000000</td>\n",
              "      <td>0.000000</td>\n",
              "    </tr>\n",
              "    <tr>\n",
              "      <th>25%</th>\n",
              "      <td>33.000000</td>\n",
              "      <td>74.000000</td>\n",
              "      <td>8.000000</td>\n",
              "      <td>103.000000</td>\n",
              "      <td>1.000000</td>\n",
              "      <td>-1.000000</td>\n",
              "      <td>0.000000</td>\n",
              "    </tr>\n",
              "    <tr>\n",
              "      <th>50%</th>\n",
              "      <td>39.000000</td>\n",
              "      <td>453.500000</td>\n",
              "      <td>16.000000</td>\n",
              "      <td>183.000000</td>\n",
              "      <td>2.000000</td>\n",
              "      <td>-1.000000</td>\n",
              "      <td>0.000000</td>\n",
              "    </tr>\n",
              "    <tr>\n",
              "      <th>75%</th>\n",
              "      <td>48.000000</td>\n",
              "      <td>1470.750000</td>\n",
              "      <td>21.000000</td>\n",
              "      <td>321.750000</td>\n",
              "      <td>3.000000</td>\n",
              "      <td>-1.000000</td>\n",
              "      <td>0.000000</td>\n",
              "    </tr>\n",
              "    <tr>\n",
              "      <th>max</th>\n",
              "      <td>157.000000</td>\n",
              "      <td>81204.000000</td>\n",
              "      <td>31.000000</td>\n",
              "      <td>3366.000000</td>\n",
              "      <td>44.000000</td>\n",
              "      <td>850.000000</td>\n",
              "      <td>40.000000</td>\n",
              "    </tr>\n",
              "  </tbody>\n",
              "</table>\n",
              "</div>"
            ],
            "text/plain": [
              "               age       balance          day     duration     campaign  \\\n",
              "count  7234.000000   7234.000000  7234.000000  7234.000000  7234.000000   \n",
              "mean     40.834808   1374.912911    15.623860   262.875311     2.713989   \n",
              "std      10.706442   3033.882933     8.307826   268.921065     2.983740   \n",
              "min       2.000000  -3313.000000     1.000000     0.000000     1.000000   \n",
              "25%      33.000000     74.000000     8.000000   103.000000     1.000000   \n",
              "50%      39.000000    453.500000    16.000000   183.000000     2.000000   \n",
              "75%      48.000000   1470.750000    21.000000   321.750000     3.000000   \n",
              "max     157.000000  81204.000000    31.000000  3366.000000    44.000000   \n",
              "\n",
              "             pdays     previous  \n",
              "count  7234.000000  7234.000000  \n",
              "mean     40.277716     0.565939  \n",
              "std      99.188008     1.825100  \n",
              "min      -1.000000     0.000000  \n",
              "25%      -1.000000     0.000000  \n",
              "50%      -1.000000     0.000000  \n",
              "75%      -1.000000     0.000000  \n",
              "max     850.000000    40.000000  "
            ]
          },
          "execution_count": 12,
          "metadata": {},
          "output_type": "execute_result"
        }
      ],
      "source": [
        "bank_df.describe() # 통계량 계산\n",
        "# 25,50(중앙치),75 = 사분위값(데이터를 오름차순으로 정렬했을때 4개로 분할한 경계값),쓸모없는 데이터를 걸러내기 위해 함"
      ]
    },
    {
      "cell_type": "code",
      "execution_count": null,
      "id": "7d4dff9f",
      "metadata": {
        "scrolled": false,
        "id": "7d4dff9f",
        "outputId": "bddff9d5-ea77-41ee-9eaf-a5a0f85cecab"
      },
      "outputs": [
        {
          "data": {
            "text/plain": [
              "<function matplotlib.pyplot.show(close=None, block=None)>"
            ]
          },
          "execution_count": 7,
          "metadata": {},
          "output_type": "execute_result"
        },
        {
          "data": {
            "image/png": "[encoded data removed]",
            "text/plain": [
              "<Figure size 640x480 with 1 Axes>"
            ]
          },
          "metadata": {},
          "output_type": "display_data"
        }
      ],
      "source": [
        "# age 의 히스토그램\n",
        "import matplotlib.pyplot as plt \n",
        "%matplotlib inline\n",
        "\n",
        "plt.hist(bank_df['age'])\n",
        "plt.xlabel('age')\n",
        "plt.ylabel('freq')\n",
        "plt.show"
      ]
    },
    {
      "cell_type": "code",
      "execution_count": null,
      "id": "3add6260",
      "metadata": {
        "id": "3add6260",
        "outputId": "72acc4bf-43eb-4d6f-dd09-64d1bd08d7ed"
      },
      "outputs": [
        {
          "data": {
            "image/png": "[encoded data removed]",
            "text/plain": [
              "<Figure size 640x480 with 1 Axes>"
            ]
          },
          "metadata": {},
          "output_type": "display_data"
        },
        {
          "data": {
            "text/html": [
              "<div>\n",
              "<style scoped>\n",
              "    .dataframe tbody tr th:only-of-type {\n",
              "        vertical-align: middle;\n",
              "    }\n",
              "\n",
              "    .dataframe tbody tr th {\n",
              "        vertical-align: top;\n",
              "    }\n",
              "\n",
              "    .dataframe thead th {\n",
              "        text-align: right;\n",
              "    }\n",
              "</style>\n",
              "<table border=\"1\" class=\"dataframe\">\n",
              "  <thead>\n",
              "    <tr style=\"text-align: right;\">\n",
              "      <th></th>\n",
              "      <th>age</th>\n",
              "      <th>balance</th>\n",
              "    </tr>\n",
              "  </thead>\n",
              "  <tbody>\n",
              "    <tr>\n",
              "      <th>age</th>\n",
              "      <td>1.000000</td>\n",
              "      <td>0.112364</td>\n",
              "    </tr>\n",
              "    <tr>\n",
              "      <th>balance</th>\n",
              "      <td>0.112364</td>\n",
              "      <td>1.000000</td>\n",
              "    </tr>\n",
              "  </tbody>\n",
              "</table>\n",
              "</div>"
            ],
            "text/plain": [
              "              age   balance\n",
              "age      1.000000  0.112364\n",
              "balance  0.112364  1.000000"
            ]
          },
          "execution_count": 15,
          "metadata": {},
          "output_type": "execute_result"
        }
      ],
      "source": [
        "# age 와 balance의 산포도, 상관계수 \n",
        "plt.scatter(bank_df['age'], bank_df['balance'])\n",
        "plt.xlabel('age')\n",
        "plt.xlabel('balance')\n",
        "plt.show()\n",
        "\n",
        "bank_df[['age', 'balance']].corr() # 상관계수는 0.112364, 거의 무관계에 가까움(1(비례) 이나 -1(반비례) 에 가까울수록 상관관계 있음)"
      ]
    },
    {
      "cell_type": "code",
      "execution_count": null,
      "id": "077db4bc",
      "metadata": {
        "id": "077db4bc",
        "outputId": "a6282d9a-424d-405a-d6fc-e9625b80a746"
      },
      "outputs": [
        {
          "name": "stdout",
          "output_type": "stream",
          "text": [
            "management       0.216968\n",
            "blue-collar      0.208484\n",
            "technician       0.167733\n",
            "admin.           0.115994\n",
            "services         0.091933\n",
            "retired          0.048818\n",
            "self-employed    0.035605\n",
            "entrepreneur     0.033241\n",
            "unemployed       0.031015\n",
            "housemaid        0.028929\n",
            "student          0.021280\n",
            "Name: job, dtype: float64\n"
          ]
        }
      ],
      "source": [
        "# 직업별 발생횟수(비율)\n",
        "print(bank_df['job'].value_counts(ascending = False, normalize = True))"
      ]
    },
    {
      "cell_type": "code",
      "execution_count": null,
      "id": "74a0e5cb",
      "metadata": {
        "id": "74a0e5cb",
        "outputId": "7048b358-85c2-46f6-ff0d-c4cc4d09a4c4"
      },
      "outputs": [
        {
          "data": {
            "image/png": "[encoded data removed]",
            "text/plain": [
              "<Figure size 640x480 with 1 Axes>"
            ]
          },
          "metadata": {},
          "output_type": "display_data"
        }
      ],
      "source": [
        "# job 의 원그래프 \n",
        "job_label = bank_df['job'].value_counts(ascending = False, normalize = True).index\n",
        "job_vals = bank_df['job'].value_counts(ascending = False, normalize = True).values\n",
        "\n",
        "plt.pie(job_vals, labels = job_label)\n",
        "plt.axis('equal')\n",
        "plt.show()"
      ]
    },
    {
      "cell_type": "code",
      "execution_count": null,
      "id": "32399e7f",
      "metadata": {
        "id": "32399e7f",
        "outputId": "171503ab-5937-48a8-c559-5a9da7249452"
      },
      "outputs": [
        {
          "data": {
            "image/png": "[encoded data removed]",
            "text/plain": [
              "<Figure size 640x480 with 1 Axes>"
            ]
          },
          "metadata": {},
          "output_type": "display_data"
        }
      ],
      "source": [
        "# y,n (예금신청결과) 원그래프 = 목적변수\n",
        "y_label = bank_df['y'].value_counts(ascending = False, normalize = True).index\n",
        "y_vals = bank_df['y'].value_counts(ascending = False, normalize = True).values\n",
        "\n",
        "plt.pie(y_vals, labels = y_label)\n",
        "plt.axis('equal')\n",
        "plt.show()"
      ]
    },
    {
      "cell_type": "code",
      "execution_count": null,
      "id": "e02436c3",
      "metadata": {
        "id": "e02436c3",
        "outputId": "bd6a2f0a-8203-4a30-b952-ec6c90da976d"
      },
      "outputs": [
        {
          "data": {
            "text/plain": [
              "<function matplotlib.pyplot.show(close=None, block=None)>"
            ]
          },
          "execution_count": 19,
          "metadata": {},
          "output_type": "execute_result"
        },
        {
          "data": {
            "image/png": "[encoded data removed]",
            "text/plain": [
              "<Figure size 640x480 with 1 Axes>"
            ]
          },
          "metadata": {},
          "output_type": "display_data"
        }
      ],
      "source": [
        "#목적변수 y 에 대한 데이터 분포 확인\n",
        "#상자수염그림 (박스의 범위는 사분위의 범위)\n",
        "y_yes = bank_df[bank_df['y'] == 'yes']\n",
        "y_no = bank_df[bank_df['y'] == 'no']\n",
        "y_age = [y_yes['age'], y_no['age']]\n",
        "\n",
        "plt.boxplot(y_age)\n",
        "plt.xlabel('y')\n",
        "plt.ylabel('age')\n",
        "ax = plt.gca()\n",
        "plt.setp(ax, xticklabels = ['yes', 'no'])\n",
        "plt.show"
      ]
    }
  ],
  "metadata": {
    "kernelspec": {
      "display_name": "Python 3 (ipykernel)",
      "language": "python",
      "name": "python3"
    },
    "language_info": {
      "codemirror_mode": {
        "name": "ipython",
        "version": 3
      },
      "file_extension": ".py",
      "mimetype": "text/x-python",
      "name": "python",
      "nbconvert_exporter": "python",
      "pygments_lexer": "ipython3",
      "version": "3.9.13"
    },
    "colab": {
      "provenance": [],
      "include_colab_link": true
    }
  },
  "nbformat": 4,
  "nbformat_minor": 5
}